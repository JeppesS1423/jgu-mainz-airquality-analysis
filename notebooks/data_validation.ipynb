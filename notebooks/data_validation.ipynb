{
 "cells": [
  {
   "cell_type": "code",
   "execution_count": 2,
   "metadata": {},
   "outputs": [],
   "source": [
    "# Imports\n",
    "import pandas as pd"
   ]
  },
  {
   "cell_type": "markdown",
   "metadata": {},
   "source": [
    "# 1. Read in sensor data as DataFrames"
   ]
  },
  {
   "cell_type": "code",
   "execution_count": 3,
   "metadata": {},
   "outputs": [],
   "source": [
    "# Assign a pandas DataFrame variable for each dataset\n",
    "sensor_803_df = pd.read_csv(r\"D:\\VSC Programs\\LIA 1 - Mainz\\Air Pollution Analysis\\data\\merged_data\\803_merged_sensor_data.csv\", sep=\";\")\n",
    "sensor_10701_df = pd.read_csv(r\"D:\\VSC Programs\\LIA 1 - Mainz\\Air Pollution Analysis\\data\\merged_data\\10701_merged_sensor_data.csv\", sep=\";\")\n",
    "sensor_21886_df = pd.read_csv(r\"D:\\VSC Programs\\LIA 1 - Mainz\\Air Pollution Analysis\\data\\merged_data\\21886_merged_sensor_data.csv\", sep=\";\")\n",
    "sensor_23712_df = pd.read_csv(r\"D:\\VSC Programs\\LIA 1 - Mainz\\Air Pollution Analysis\\data\\merged_data\\23712_merged_sensor_data.csv\", sep=\";\")\n",
    "sensor_26656_df = pd.read_csv(r\"D:\\VSC Programs\\LIA 1 - Mainz\\Air Pollution Analysis\\data\\merged_data\\26656_merged_sensor_data.csv\", sep=\";\")\n",
    "sensor_47739_df = pd.read_csv(r\"D:\\VSC Programs\\LIA 1 - Mainz\\Air Pollution Analysis\\data\\merged_data\\47739_merged_sensor_data.csv\", sep=\";\")\n",
    "sensor_48807_df = pd.read_csv(r\"D:\\VSC Programs\\LIA 1 - Mainz\\Air Pollution Analysis\\data\\merged_data\\48807_merged_sensor_data.csv\", sep=\";\")\n",
    "sensor_66816_df = pd.read_csv(r\"D:\\VSC Programs\\LIA 1 - Mainz\\Air Pollution Analysis\\data\\merged_data\\66816_merged_sensor_data.csv\", sep=\";\")\n",
    "sensor_77220_df = pd.read_csv(r\"D:\\VSC Programs\\LIA 1 - Mainz\\Air Pollution Analysis\\data\\merged_data\\77220_merged_sensor_data.csv\", sep=\";\")\n",
    "sensor_83487_df = pd.read_csv(r\"D:\\VSC Programs\\LIA 1 - Mainz\\Air Pollution Analysis\\data\\merged_data\\83487_merged_sensor_data.csv\", sep=\";\")"
   ]
  },
  {
   "cell_type": "code",
   "execution_count": 4,
   "metadata": {},
   "outputs": [],
   "source": [
    "# Put all dataframes into one list for easy iterations\n",
    "all_sensor_dfs = [sensor_803_df, sensor_10701_df,\n",
    "                  sensor_21886_df, sensor_23712_df,\n",
    "                  sensor_26656_df, sensor_47739_df,\n",
    "                  sensor_48807_df, sensor_66816_df,\n",
    "                  sensor_77220_df,sensor_83487_df]"
   ]
  },
  {
   "cell_type": "code",
   "execution_count": 5,
   "metadata": {},
   "outputs": [],
   "source": [
    "# Store all columns in a variable\n",
    "sensor_data_columns = [\n",
    "    \"sensor_id\", \"sensor_type\",\n",
    "    \"location\", \"lat\", \"lon\",\n",
    "    \"timestamp\", \"P1\", \"durP1\",\n",
    "    \"ratioP1\", \"P2\", \"durP2\",\n",
    "    \"ratioP2\"\n",
    "]"
   ]
  },
  {
   "cell_type": "markdown",
   "metadata": {},
   "source": [
    "# 2. Data validation"
   ]
  },
  {
   "cell_type": "code",
   "execution_count": 6,
   "metadata": {},
   "outputs": [
    {
     "name": "stdout",
     "output_type": "stream",
     "text": [
      "[803]\n",
      "[10701]\n",
      "[21886]\n",
      "[23712]\n",
      "[26656]\n",
      "[47739]\n",
      "[48807]\n",
      "[66816]\n",
      "[77220]\n",
      "[83487]\n"
     ]
    }
   ],
   "source": [
    "# Check that each dataset contains the right ID\n",
    "for df in all_sensor_dfs:\n",
    "    print(df[\"sensor_id\"].unique())"
   ]
  },
  {
   "cell_type": "markdown",
   "metadata": {},
   "source": [
    "## Check for missing values for each column"
   ]
  },
  {
   "cell_type": "code",
   "execution_count": 7,
   "metadata": {},
   "outputs": [],
   "source": [
    "def check_missing_data(column):\n",
    "    for df in all_sensor_dfs:\n",
    "        print(f\"Sensor: {df[\"sensor_id\"][0]} | {column} null values: {df[column].isna().sum()}\")"
   ]
  },
  {
   "cell_type": "code",
   "execution_count": 8,
   "metadata": {},
   "outputs": [],
   "source": [
    "def print_sensor_num_rows():\n",
    "    for df in all_sensor_dfs:\n",
    "        print(f\"Sensor: {df[\"sensor_id\"][0]} | Rows: {len(df)}\")"
   ]
  },
  {
   "cell_type": "code",
   "execution_count": 9,
   "metadata": {},
   "outputs": [
    {
     "data": {
      "text/plain": [
       "['sensor_id',\n",
       " 'sensor_type',\n",
       " 'location',\n",
       " 'lat',\n",
       " 'lon',\n",
       " 'timestamp',\n",
       " 'P1',\n",
       " 'durP1',\n",
       " 'ratioP1',\n",
       " 'P2',\n",
       " 'durP2',\n",
       " 'ratioP2']"
      ]
     },
     "execution_count": 9,
     "metadata": {},
     "output_type": "execute_result"
    }
   ],
   "source": [
    "sensor_data_columns"
   ]
  },
  {
   "cell_type": "code",
   "execution_count": 10,
   "metadata": {},
   "outputs": [
    {
     "name": "stdout",
     "output_type": "stream",
     "text": [
      "Sensor: 803 | sensor_id null values: 0\n",
      "Sensor: 10701 | sensor_id null values: 0\n",
      "Sensor: 21886 | sensor_id null values: 0\n",
      "Sensor: 23712 | sensor_id null values: 0\n",
      "Sensor: 26656 | sensor_id null values: 0\n",
      "Sensor: 47739 | sensor_id null values: 0\n",
      "Sensor: 48807 | sensor_id null values: 0\n",
      "Sensor: 66816 | sensor_id null values: 0\n",
      "Sensor: 77220 | sensor_id null values: 0\n",
      "Sensor: 83487 | sensor_id null values: 0\n"
     ]
    }
   ],
   "source": [
    "# Sensor id\n",
    "check_missing_data(\"sensor_id\")"
   ]
  },
  {
   "cell_type": "code",
   "execution_count": 11,
   "metadata": {},
   "outputs": [
    {
     "name": "stdout",
     "output_type": "stream",
     "text": [
      "Sensor: 803 | sensor_type null values: 0\n",
      "Sensor: 10701 | sensor_type null values: 0\n",
      "Sensor: 21886 | sensor_type null values: 0\n",
      "Sensor: 23712 | sensor_type null values: 0\n",
      "Sensor: 26656 | sensor_type null values: 0\n",
      "Sensor: 47739 | sensor_type null values: 0\n",
      "Sensor: 48807 | sensor_type null values: 0\n",
      "Sensor: 66816 | sensor_type null values: 0\n",
      "Sensor: 77220 | sensor_type null values: 0\n",
      "Sensor: 83487 | sensor_type null values: 0\n"
     ]
    }
   ],
   "source": [
    "# Sensor type\n",
    "check_missing_data(\"sensor_type\")"
   ]
  },
  {
   "cell_type": "code",
   "execution_count": 12,
   "metadata": {},
   "outputs": [
    {
     "name": "stdout",
     "output_type": "stream",
     "text": [
      "Sensor: 803 | location null values: 0\n",
      "Sensor: 10701 | location null values: 0\n",
      "Sensor: 21886 | location null values: 0\n",
      "Sensor: 23712 | location null values: 0\n",
      "Sensor: 26656 | location null values: 0\n",
      "Sensor: 47739 | location null values: 0\n",
      "Sensor: 48807 | location null values: 0\n",
      "Sensor: 66816 | location null values: 0\n",
      "Sensor: 77220 | location null values: 0\n",
      "Sensor: 83487 | location null values: 0\n"
     ]
    }
   ],
   "source": [
    "# Location\n",
    "check_missing_data(\"location\")"
   ]
  },
  {
   "cell_type": "code",
   "execution_count": 13,
   "metadata": {},
   "outputs": [
    {
     "name": "stdout",
     "output_type": "stream",
     "text": [
      "Sensor: 803 | lat null values: 0\n",
      "Sensor: 10701 | lat null values: 0\n",
      "Sensor: 21886 | lat null values: 0\n",
      "Sensor: 23712 | lat null values: 0\n",
      "Sensor: 26656 | lat null values: 0\n",
      "Sensor: 47739 | lat null values: 0\n",
      "Sensor: 48807 | lat null values: 0\n",
      "Sensor: 66816 | lat null values: 0\n",
      "Sensor: 77220 | lat null values: 0\n",
      "Sensor: 83487 | lat null values: 0\n"
     ]
    }
   ],
   "source": [
    "# Lat\n",
    "check_missing_data(\"lat\")"
   ]
  },
  {
   "cell_type": "code",
   "execution_count": 14,
   "metadata": {},
   "outputs": [
    {
     "name": "stdout",
     "output_type": "stream",
     "text": [
      "Sensor: 803 | lon null values: 0\n",
      "Sensor: 10701 | lon null values: 0\n",
      "Sensor: 21886 | lon null values: 0\n",
      "Sensor: 23712 | lon null values: 0\n",
      "Sensor: 26656 | lon null values: 0\n",
      "Sensor: 47739 | lon null values: 0\n",
      "Sensor: 48807 | lon null values: 0\n",
      "Sensor: 66816 | lon null values: 0\n",
      "Sensor: 77220 | lon null values: 0\n",
      "Sensor: 83487 | lon null values: 0\n"
     ]
    }
   ],
   "source": [
    "# Lon\n",
    "check_missing_data(\"lon\")"
   ]
  },
  {
   "cell_type": "code",
   "execution_count": 15,
   "metadata": {},
   "outputs": [
    {
     "name": "stdout",
     "output_type": "stream",
     "text": [
      "Sensor: 803 | timestamp null values: 0\n",
      "Sensor: 10701 | timestamp null values: 0\n",
      "Sensor: 21886 | timestamp null values: 0\n",
      "Sensor: 23712 | timestamp null values: 0\n",
      "Sensor: 26656 | timestamp null values: 0\n",
      "Sensor: 47739 | timestamp null values: 0\n",
      "Sensor: 48807 | timestamp null values: 0\n",
      "Sensor: 66816 | timestamp null values: 0\n",
      "Sensor: 77220 | timestamp null values: 0\n",
      "Sensor: 83487 | timestamp null values: 0\n"
     ]
    }
   ],
   "source": [
    "# Timestamp\n",
    "check_missing_data(\"timestamp\")"
   ]
  },
  {
   "cell_type": "code",
   "execution_count": 16,
   "metadata": {},
   "outputs": [
    {
     "name": "stdout",
     "output_type": "stream",
     "text": [
      "Sensor: 803 | P1 null values: 1\n",
      "Sensor: 10701 | P1 null values: 0\n",
      "Sensor: 21886 | P1 null values: 0\n",
      "Sensor: 23712 | P1 null values: 0\n",
      "Sensor: 26656 | P1 null values: 0\n",
      "Sensor: 47739 | P1 null values: 0\n",
      "Sensor: 48807 | P1 null values: 0\n",
      "Sensor: 66816 | P1 null values: 0\n",
      "Sensor: 77220 | P1 null values: 0\n",
      "Sensor: 83487 | P1 null values: 0\n"
     ]
    }
   ],
   "source": [
    "# P1\n",
    "check_missing_data(\"P1\")\n",
    "# One missing value in sensor 803"
   ]
  },
  {
   "cell_type": "code",
   "execution_count": 17,
   "metadata": {},
   "outputs": [
    {
     "name": "stdout",
     "output_type": "stream",
     "text": [
      "Sensor: 803 | durP1 null values: 1336145\n",
      "Sensor: 10701 | durP1 null values: 1284521\n",
      "Sensor: 21886 | durP1 null values: 1085614\n",
      "Sensor: 23712 | durP1 null values: 513187\n",
      "Sensor: 26656 | durP1 null values: 1004594\n",
      "Sensor: 47739 | durP1 null values: 834929\n",
      "Sensor: 48807 | durP1 null values: 767415\n",
      "Sensor: 66816 | durP1 null values: 580193\n",
      "Sensor: 77220 | durP1 null values: 313856\n",
      "Sensor: 83487 | durP1 null values: 176259\n"
     ]
    }
   ],
   "source": [
    "# durP1\n",
    "check_missing_data(\"durP1\")"
   ]
  },
  {
   "cell_type": "code",
   "execution_count": 18,
   "metadata": {},
   "outputs": [
    {
     "name": "stdout",
     "output_type": "stream",
     "text": [
      "Sensor: 803 | ratioP1 null values: 1336145\n",
      "Sensor: 10701 | ratioP1 null values: 1284521\n",
      "Sensor: 21886 | ratioP1 null values: 1085614\n",
      "Sensor: 23712 | ratioP1 null values: 513187\n",
      "Sensor: 26656 | ratioP1 null values: 1004594\n",
      "Sensor: 47739 | ratioP1 null values: 834929\n",
      "Sensor: 48807 | ratioP1 null values: 767415\n",
      "Sensor: 66816 | ratioP1 null values: 580193\n",
      "Sensor: 77220 | ratioP1 null values: 313856\n",
      "Sensor: 83487 | ratioP1 null values: 176259\n"
     ]
    }
   ],
   "source": [
    "# ratioP1\n",
    "check_missing_data(\"ratioP1\")"
   ]
  },
  {
   "cell_type": "code",
   "execution_count": 19,
   "metadata": {},
   "outputs": [
    {
     "name": "stdout",
     "output_type": "stream",
     "text": [
      "Sensor: 803 | Rows: 1336145\n",
      "Sensor: 10701 | Rows: 1284521\n",
      "Sensor: 21886 | Rows: 1085614\n",
      "Sensor: 23712 | Rows: 513187\n",
      "Sensor: 26656 | Rows: 1004594\n",
      "Sensor: 47739 | Rows: 834929\n",
      "Sensor: 48807 | Rows: 767415\n",
      "Sensor: 66816 | Rows: 580193\n",
      "Sensor: 77220 | Rows: 313856\n",
      "Sensor: 83487 | Rows: 176259\n"
     ]
    }
   ],
   "source": [
    "print_sensor_num_rows()"
   ]
  },
  {
   "cell_type": "markdown",
   "metadata": {},
   "source": [
    "There are no values for \"durP1\" or \"ratioP1\" for any sensor, \n",
    "Note: Remove columns \"durP1\" and \"ratioP1"
   ]
  },
  {
   "cell_type": "code",
   "execution_count": 20,
   "metadata": {},
   "outputs": [
    {
     "name": "stdout",
     "output_type": "stream",
     "text": [
      "Sensor: 803 | P2 null values: 6\n",
      "Sensor: 10701 | P2 null values: 2\n",
      "Sensor: 21886 | P2 null values: 3\n",
      "Sensor: 23712 | P2 null values: 2\n",
      "Sensor: 26656 | P2 null values: 1\n",
      "Sensor: 47739 | P2 null values: 0\n",
      "Sensor: 48807 | P2 null values: 2\n",
      "Sensor: 66816 | P2 null values: 2\n",
      "Sensor: 77220 | P2 null values: 0\n",
      "Sensor: 83487 | P2 null values: 0\n"
     ]
    }
   ],
   "source": [
    "# P2\n",
    "check_missing_data(\"P2\")\n",
    "# There are some missing values for P2"
   ]
  },
  {
   "cell_type": "code",
   "execution_count": 21,
   "metadata": {},
   "outputs": [
    {
     "name": "stdout",
     "output_type": "stream",
     "text": [
      "Sensor: 803 | durP2 null values: 1336145\n",
      "Sensor: 10701 | durP2 null values: 1284521\n",
      "Sensor: 21886 | durP2 null values: 1085614\n",
      "Sensor: 23712 | durP2 null values: 513187\n",
      "Sensor: 26656 | durP2 null values: 1004594\n",
      "Sensor: 47739 | durP2 null values: 834929\n",
      "Sensor: 48807 | durP2 null values: 767415\n",
      "Sensor: 66816 | durP2 null values: 580193\n",
      "Sensor: 77220 | durP2 null values: 313856\n",
      "Sensor: 83487 | durP2 null values: 176259\n"
     ]
    }
   ],
   "source": [
    "# durP2\n",
    "check_missing_data(\"durP2\")"
   ]
  },
  {
   "cell_type": "code",
   "execution_count": 22,
   "metadata": {},
   "outputs": [
    {
     "name": "stdout",
     "output_type": "stream",
     "text": [
      "Sensor: 803 | ratioP2 null values: 1336145\n",
      "Sensor: 10701 | ratioP2 null values: 1284521\n",
      "Sensor: 21886 | ratioP2 null values: 1085614\n",
      "Sensor: 23712 | ratioP2 null values: 513187\n",
      "Sensor: 26656 | ratioP2 null values: 1004594\n",
      "Sensor: 47739 | ratioP2 null values: 834929\n",
      "Sensor: 48807 | ratioP2 null values: 767415\n",
      "Sensor: 66816 | ratioP2 null values: 580193\n",
      "Sensor: 77220 | ratioP2 null values: 313856\n",
      "Sensor: 83487 | ratioP2 null values: 176259\n"
     ]
    }
   ],
   "source": [
    "# ratioP2\n",
    "check_missing_data(\"ratioP2\")"
   ]
  },
  {
   "cell_type": "markdown",
   "metadata": {},
   "source": [
    "There are no values for \"durP2\" or \"ratioP2\" for any sensor, \n",
    "Note: Remove columns \"durP2\" and \"ratioP2"
   ]
  },
  {
   "cell_type": "markdown",
   "metadata": {},
   "source": [
    "### Missing value conclusion:\n",
    "There are a few missing values for \"P1\" and \"P2\"\n",
    "There are no data available for \"dur\" and \"ratio\" for both \"P1\" and \"P2\", these columns will be removed."
   ]
  },
  {
   "cell_type": "markdown",
   "metadata": {},
   "source": [
    "# 4. Datatype avlidation\n",
    "All sensors use the same dtypes for it's columns"
   ]
  },
  {
   "cell_type": "code",
   "execution_count": 24,
   "metadata": {},
   "outputs": [
    {
     "name": "stdout",
     "output_type": "stream",
     "text": [
      "<class 'pandas.core.frame.DataFrame'>\n",
      "RangeIndex: 1336145 entries, 0 to 1336144\n",
      "Data columns (total 12 columns):\n",
      " #   Column       Non-Null Count    Dtype  \n",
      "---  ------       --------------    -----  \n",
      " 0   sensor_id    1336145 non-null  int64  \n",
      " 1   sensor_type  1336145 non-null  object \n",
      " 2   location     1336145 non-null  int64  \n",
      " 3   lat          1336145 non-null  float64\n",
      " 4   lon          1336145 non-null  float64\n",
      " 5   timestamp    1336145 non-null  object \n",
      " 6   P1           1336144 non-null  float64\n",
      " 7   durP1        0 non-null        float64\n",
      " 8   ratioP1      0 non-null        float64\n",
      " 9   P2           1336139 non-null  float64\n",
      " 10  durP2        0 non-null        float64\n",
      " 11  ratioP2      0 non-null        float64\n",
      "dtypes: float64(8), int64(2), object(2)\n",
      "memory usage: 122.3+ MB\n"
     ]
    }
   ],
   "source": [
    "# Check the dtypes\n",
    "all_sensor_dfs[0].info()"
   ]
  },
  {
   "cell_type": "markdown",
   "metadata": {},
   "source": [
    "Sensor_id is a simple int, it will be reduced to int32"
   ]
  },
  {
   "cell_type": "code",
   "execution_count": 32,
   "metadata": {},
   "outputs": [
    {
     "name": "stdout",
     "output_type": "stream",
     "text": [
      "384\n",
      "25687\n"
     ]
    }
   ],
   "source": [
    "# Location\n",
    "print(all_sensor_dfs[0][\"location\"].min())\n",
    "print(all_sensor_dfs[0][\"location\"].max())"
   ]
  },
  {
   "cell_type": "markdown",
   "metadata": {},
   "source": [
    "Location can be reduced to int32"
   ]
  },
  {
   "cell_type": "code",
   "execution_count": 27,
   "metadata": {},
   "outputs": [
    {
     "name": "stdout",
     "output_type": "stream",
     "text": [
      "49.976\n",
      "49.977\n"
     ]
    }
   ],
   "source": [
    "# Latitude\n",
    "print(all_sensor_dfs[0][\"lat\"].min())\n",
    "print(all_sensor_dfs[0][\"lat\"].max())"
   ]
  },
  {
   "cell_type": "code",
   "execution_count": 28,
   "metadata": {},
   "outputs": [
    {
     "name": "stdout",
     "output_type": "stream",
     "text": [
      "8.24\n",
      "8.24\n"
     ]
    }
   ],
   "source": [
    "# Longitude\n",
    "print(all_sensor_dfs[0][\"lon\"].min())\n",
    "print(all_sensor_dfs[0][\"lon\"].max())"
   ]
  },
  {
   "cell_type": "markdown",
   "metadata": {},
   "source": [
    "The coordinate floats are not deep, could be reduced to float32 or even float16 if viable"
   ]
  },
  {
   "cell_type": "code",
   "execution_count": 29,
   "metadata": {},
   "outputs": [
    {
     "name": "stdout",
     "output_type": "stream",
     "text": [
      "0.05\n",
      "1999.9\n"
     ]
    }
   ],
   "source": [
    "# P1\n",
    "print(all_sensor_dfs[0][\"P1\"].min())\n",
    "print(all_sensor_dfs[0][\"P1\"].max())"
   ]
  },
  {
   "cell_type": "code",
   "execution_count": 31,
   "metadata": {},
   "outputs": [
    {
     "name": "stdout",
     "output_type": "stream",
     "text": [
      "0.05\n",
      "999.9\n"
     ]
    }
   ],
   "source": [
    "# P2\n",
    "print(all_sensor_dfs[0][\"P2\"].min())\n",
    "print(all_sensor_dfs[0][\"P2\"].max())"
   ]
  },
  {
   "cell_type": "markdown",
   "metadata": {},
   "source": [
    "The P1 and P2 values or not deep either, can be reduced to float32"
   ]
  },
  {
   "cell_type": "markdown",
   "metadata": {},
   "source": [
    "# 4. Other notes:\n",
    "The \"timestamp\" column is not a datetime object, this will be converted"
   ]
  },
  {
   "cell_type": "markdown",
   "metadata": {},
   "source": [
    "# 5. Conclusion\n",
    "* Remove columns \"durP1\", \"ratioP1\", \"durP2\", \"ratioP2\" due to missing values\n",
    "* Handle the few missing values in \"P1\" and \"P2\"\n",
    "* Reduce the bitsize of \"sensor_id\", \"location\", \"lon\", \"lat\", \"P1\", \"P2\"\n",
    "* Merge all sensor data into one single DataFrame"
   ]
  },
  {
   "cell_type": "markdown",
   "metadata": {},
   "source": [
    "## Continue to the data_cleaning_preprocessing.ipynb to see results"
   ]
  }
 ],
 "metadata": {
  "kernelspec": {
   "display_name": "venv",
   "language": "python",
   "name": "python3"
  },
  "language_info": {
   "codemirror_mode": {
    "name": "ipython",
    "version": 3
   },
   "file_extension": ".py",
   "mimetype": "text/x-python",
   "name": "python",
   "nbconvert_exporter": "python",
   "pygments_lexer": "ipython3",
   "version": "3.12.0"
  }
 },
 "nbformat": 4,
 "nbformat_minor": 2
}
