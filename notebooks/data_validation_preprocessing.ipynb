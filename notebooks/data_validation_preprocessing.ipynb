{
 "cells": [
  {
   "cell_type": "code",
   "execution_count": 2,
   "metadata": {},
   "outputs": [],
   "source": [
    "# Imports\n",
    "import pandas as pd\n",
    "import matplotlib as plt\n",
    "import seaborn as sns"
   ]
  },
  {
   "cell_type": "markdown",
   "metadata": {},
   "source": [
    "# 1. Read in sensor data as DataFrames"
   ]
  },
  {
   "cell_type": "code",
   "execution_count": 3,
   "metadata": {},
   "outputs": [],
   "source": [
    "# Assign a pandas DataFrame variable for each dataset\n",
    "sensor_803_df = pd.read_csv(r\"D:\\VSC Programs\\LIA 1 - Mainz\\Air Pollution Analysis\\data\\merged_data\\803_merged_sensor_data.csv\", sep=\";\")\n",
    "sensor_10701_df = pd.read_csv(r\"D:\\VSC Programs\\LIA 1 - Mainz\\Air Pollution Analysis\\data\\merged_data\\10701_merged_sensor_data.csv\", sep=\";\")\n",
    "sensor_21886_df = pd.read_csv(r\"D:\\VSC Programs\\LIA 1 - Mainz\\Air Pollution Analysis\\data\\merged_data\\21886_merged_sensor_data.csv\", sep=\";\")\n",
    "sensor_23712_df = pd.read_csv(r\"D:\\VSC Programs\\LIA 1 - Mainz\\Air Pollution Analysis\\data\\merged_data\\23712_merged_sensor_data.csv\", sep=\";\")\n",
    "sensor_26656_df = pd.read_csv(r\"D:\\VSC Programs\\LIA 1 - Mainz\\Air Pollution Analysis\\data\\merged_data\\26656_merged_sensor_data.csv\", sep=\";\")\n",
    "sensor_47739_df = pd.read_csv(r\"D:\\VSC Programs\\LIA 1 - Mainz\\Air Pollution Analysis\\data\\merged_data\\47739_merged_sensor_data.csv\", sep=\";\")\n",
    "sensor_48807_df = pd.read_csv(r\"D:\\VSC Programs\\LIA 1 - Mainz\\Air Pollution Analysis\\data\\merged_data\\48807_merged_sensor_data.csv\", sep=\";\")\n",
    "sensor_66816_df = pd.read_csv(r\"D:\\VSC Programs\\LIA 1 - Mainz\\Air Pollution Analysis\\data\\merged_data\\66816_merged_sensor_data.csv\", sep=\";\")\n",
    "sensor_77220_df = pd.read_csv(r\"D:\\VSC Programs\\LIA 1 - Mainz\\Air Pollution Analysis\\data\\merged_data\\77220_merged_sensor_data.csv\", sep=\";\")\n",
    "sensor_83487_df = pd.read_csv(r\"D:\\VSC Programs\\LIA 1 - Mainz\\Air Pollution Analysis\\data\\merged_data\\83487_merged_sensor_data.csv\", sep=\";\")"
   ]
  },
  {
   "cell_type": "code",
   "execution_count": null,
   "metadata": {},
   "outputs": [],
   "source": [
    "# Put all dataframes into one list for easy iterations\n",
    "all_sensor_dfs = [sensor_803_df, sensor_10701_df,\n",
    "                  sensor_21886_df, sensor_23712_df,\n",
    "                  sensor_26656_df, sensor_47739_df,\n",
    "                  sensor_48807_df, sensor_66816_df,\n",
    "                  sensor_77220_df,sensor_83487_df]"
   ]
  },
  {
   "cell_type": "markdown",
   "metadata": {},
   "source": [
    "# 2. Data validation"
   ]
  },
  {
   "cell_type": "code",
   "execution_count": 6,
   "metadata": {},
   "outputs": [
    {
     "name": "stdout",
     "output_type": "stream",
     "text": [
      "[803]\n",
      "[10701]\n",
      "[21886]\n",
      "[23712]\n",
      "[26656]\n",
      "[47739]\n",
      "[48807]\n",
      "[66816]\n",
      "[77220]\n",
      "[83487]\n"
     ]
    }
   ],
   "source": [
    "# Check that each dataset contains the right ID\n",
    "for df in all_sensor_dfs:\n",
    "    print(df[\"sensor_id\"].unique())\n",
    "\n",
    "\"\"\"\n",
    "Expected:\n",
    "    [803]\n",
    "    [10701]\n",
    "    [21886]\n",
    "    [23712]\n",
    "    [26656]\n",
    "    [47739]\n",
    "    [48807]\n",
    "    [66816]\n",
    "    [77220]\n",
    "    [83487]\"\"\""
   ]
  }
 ],
 "metadata": {
  "kernelspec": {
   "display_name": "venv",
   "language": "python",
   "name": "python3"
  },
  "language_info": {
   "codemirror_mode": {
    "name": "ipython",
    "version": 3
   },
   "file_extension": ".py",
   "mimetype": "text/x-python",
   "name": "python",
   "nbconvert_exporter": "python",
   "pygments_lexer": "ipython3",
   "version": "3.12.0"
  }
 },
 "nbformat": 4,
 "nbformat_minor": 2
}
